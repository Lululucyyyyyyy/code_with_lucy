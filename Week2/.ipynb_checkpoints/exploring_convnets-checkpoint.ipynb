{
 "cells": [
  {
   "cell_type": "markdown",
   "metadata": {},
   "source": [
    "# Convolutional Neural Networks\n",
    "Welcome! In this notebook, we will explore the different components of convolutional neural networks (or convnets)."
   ]
  },
  {
   "cell_type": "markdown",
   "metadata": {},
   "source": [
    "## 1. Import Libraries\n",
    "First things first, let's import the basic libaries"
   ]
  },
  {
   "cell_type": "code",
   "execution_count": 6,
   "metadata": {},
   "outputs": [],
   "source": [
    "import numpy as np\n",
    "import matplotlib.pyplot as plt\n",
    "import tensorflow as tf\n",
    "from PIL import Image"
   ]
  },
  {
   "cell_type": "markdown",
   "metadata": {},
   "source": [
    "## 2. The Components\n",
    "For convnets, there are a few basic layers: the convolutional layer and the max pool layer. To break it down further, we padd the image before the conv layer, then we define a conv \"window\", then we do the actual forward pass."
   ]
  },
  {
   "cell_type": "markdown",
   "metadata": {},
   "source": [
    "## 3. Convolutional Layer\n",
    "### 3.1 Zero Padding\n",
    "Without further to do, let's get started! So an image can be converted into a numpy array like so:"
   ]
  },
  {
   "cell_type": "markdown",
   "metadata": {},
   "source": [
    "![watermelon](watermelon.jpeg)"
   ]
  },
  {
   "cell_type": "code",
   "execution_count": 7,
   "metadata": {},
   "outputs": [
    {
     "name": "stdout",
     "output_type": "stream",
     "text": [
      "[[[254 140 104]\n",
      "  [249 128  97]\n",
      "  [244 115  86]\n",
      "  ...\n",
      "  [227 210 140]\n",
      "  [226 214 142]\n",
      "  [225 219 145]]\n",
      "\n",
      " [[245 122  91]\n",
      "  [243 115  86]\n",
      "  [243 109  84]\n",
      "  ...\n",
      "  [231 201 129]\n",
      "  [231 205 131]\n",
      "  [229 210 134]]\n",
      "\n",
      " [[243 109  82]\n",
      "  [242 103  80]\n",
      "  [243  98  77]\n",
      "  ...\n",
      "  [236 189 117]\n",
      "  [235 193 119]\n",
      "  [234 198 122]]\n",
      "\n",
      " ...\n",
      "\n",
      " [[167  40  34]\n",
      "  [176  47  42]\n",
      "  [187  55  51]\n",
      "  ...\n",
      "  [  2 178 217]\n",
      "  [  2 178 217]\n",
      "  [  2 178 217]]\n",
      "\n",
      " [[172  43  38]\n",
      "  [175  46  41]\n",
      "  [177  45  41]\n",
      "  ...\n",
      "  [  2 178 217]\n",
      "  [  2 178 217]\n",
      "  [  2 178 217]]\n",
      "\n",
      " [[179  50  45]\n",
      "  [187  58  53]\n",
      "  [192  60  56]\n",
      "  ...\n",
      "  [  1 177 216]\n",
      "  [  1 177 216]\n",
      "  [  1 177 216]]]\n"
     ]
    }
   ],
   "source": [
    "image = Image.open('watermelon.jpeg')\n",
    "my_np_image = np.array(image)\n",
    "print(my_np_image)"
   ]
  },
  {
   "cell_type": "markdown",
   "metadata": {},
   "source": [
    "And what we mean by padding is simply adding a layer of 0's around the image, so that we don't loose \"valuable\" information on the edges.\n",
    "You can use the function ```np.pad()```"
   ]
  },
  {
   "cell_type": "code",
   "execution_count": 19,
   "metadata": {},
   "outputs": [],
   "source": [
    "def zero_pad(image, pad):\n",
    "    padded = np.pad(image, ((0,0),(pad, pad),(pad,pad),(0,0)), 'constant', constant_values=(0, 0))\n",
    "    return padded"
   ]
  },
  {
   "cell_type": "code",
   "execution_count": 38,
   "metadata": {},
   "outputs": [
    {
     "name": "stdout",
     "output_type": "stream",
     "text": [
      "(3, 2, 2, 2)\n",
      "(3, 6, 6, 2)\n",
      "[[ 0.0169049  -0.51498352]\n",
      " [ 0.24450929 -0.18931261]]\n",
      "[[0. 0.]\n",
      " [0. 0.]\n",
      " [0. 0.]\n",
      " [0. 0.]\n",
      " [0. 0.]\n",
      " [0. 0.]]\n"
     ]
    },
    {
     "data": {
      "text/plain": [
       "<matplotlib.image.AxesImage at 0xb396b2b00>"
      ]
     },
     "execution_count": 38,
     "metadata": {},
     "output_type": "execute_result"
    },
    {
     "data": {
      "image/png": "[encoded data removed]",
      "text/plain": [
       "<Figure size 432x288 with 2 Axes>"
      ]
     },
     "metadata": {
      "needs_background": "light"
     },
     "output_type": "display_data"
    }
   ],
   "source": [
    "np.random.seed(2019)\n",
    "my_image = np.random.randn(3, 2, 2, 2)\n",
    "padded_image = zero_pad(my_image, 2)\n",
    "print(my_image.shape)\n",
    "print(padded_image.shape)\n",
    "print(my_image[1][1])\n",
    "print(padded_image[1][1])\n",
    "\n",
    "fig, axarr = plt.subplots(1,2)\n",
    "axarr[0].set_title('my_image')\n",
    "axarr[0].imshow(my_image[1,:,:,1])\n",
    "axarr[1].set_title('padded_image')\n",
    "axarr[1].imshow(padded_image[1,:,:,1])"
   ]
  },
  {
   "cell_type": "markdown",
   "metadata": {},
   "source": [
    "Your output should be:\n",
    "```\n",
    "(3, 2, 2, 2)\n",
    "(3, 6, 6, 2)\n",
    "[[ 0.0169049  -0.51498352]\n",
    " [ 0.24450929 -0.18931261]]\n",
    "[[0. 0.]\n",
    " [0. 0.]\n",
    " [0. 0.]\n",
    " [0. 0.]\n",
    " [0. 0.]\n",
    " [0. 0.]]\n",
    "```"
   ]
  },
  {
   "cell_type": "markdown",
   "metadata": {},
   "source": [
    "### 3.2 Convolutional Layer\n",
    "So now we'll try implementing our own conv layer. It may seem very complicated, but try thinking about what each line of code actually DOES, and it will start coming together."
   ]
  },
  {
   "cell_type": "code",
   "execution_count": 39,
   "metadata": {},
   "outputs": [],
   "source": [
    "def conv_single_step(a_slice_prev, W, b):\n",
    "    #Element-wise product between a_slice, W\n",
    "    s = np.multiply(a_slice_prev, W)\n",
    "    #Sum over all entries of volume s\n",
    "    Z = np.sum(s)\n",
    "    #Add bias b to Z. Cast b to a float()\n",
    "    Z = float(b) + Z\n",
    "    \n",
    "    return Z"
   ]
  },
  {
   "cell_type": "code",
   "execution_count": 40,
   "metadata": {},
   "outputs": [
    {
     "name": "stdout",
     "output_type": "stream",
     "text": [
      "Z = -1.7334289119940802\n"
     ]
    }
   ],
   "source": [
    "np.random.seed(1)\n",
    "a_slice_prev = np.random.randn(2, 2, 4)\n",
    "W = np.random.randn(2, 2, 4)\n",
    "b = np.random.randn(1, 1, 1)\n",
    "\n",
    "Z = conv_single_step(a_slice_prev, W, b)\n",
    "print(\"Z =\", Z)"
   ]
  },
  {
   "cell_type": "markdown",
   "metadata": {},
   "source": [
    "```\n",
    "Z = -1.7334289119940802\n",
    "```"
   ]
  },
  {
   "cell_type": "markdown",
   "metadata": {},
   "source": [
    "$$ nH = (nH\\_prev - f + 2xpad) / stride + 1 $$\n",
    "$$ nW = (nH\\_prev - f + 2xpad) / stride + 1 $$"
   ]
  },
  {
   "cell_type": "code",
   "execution_count": 71,
   "metadata": {},
   "outputs": [],
   "source": [
    "def conv_forward(A_prev, W, b, stride = 2, pad = 2):\n",
    "    \n",
    "    #Get the dimensions of A_prev\n",
    "    (m, n_H_prev, n_W_prev, n_C_prev) = A_prev.shape\n",
    "    (f, f, n_C_prev, n_C) = W.shape\n",
    "    \n",
    "    #Compute the dimensions using the formulas above\n",
    "    n_H = int((n_H_prev - f + 2 * pad) / stride) + 1\n",
    "    n_W = int((n_W_prev - f + 2 * pad) / stride) + 1\n",
    "    \n",
    "    #Get W's shape for parameters\n",
    "    (f, f, n_C_prev, n_C) = W.shape\n",
    "    \n",
    "    #Initialize an output shape\n",
    "    Z = np.zeros((m, n_H, n_W, n_C))\n",
    "    \n",
    "    #Padd the array\n",
    "    A_prev_pad = zero_pad(A_prev, pad)\n",
    "    \n",
    "    for i in range(m):\n",
    "        a_prev_pad = A_prev_pad[i]\n",
    "        for h in range(n_H):\n",
    "            for w in range(n_W):\n",
    "                for c in range(n_C):\n",
    "                    vert_start = h * stride\n",
    "                    vert_end = vert_start + f\n",
    "                    horiz_start = w * stride\n",
    "                    horiz_end = horiz_start + f\n",
    "                    \n",
    "                    a_slice_prev = a_prev_pad[vert_start:vert_end, horiz_start:horiz_end, :]\n",
    "                    \n",
    "                    Z[i, h, w, c] = conv_single_step(a_slice_prev, W[...,c], b[...,c])\n",
    "    \n",
    "    cache = (A_prev, W, b)\n",
    "    \n",
    "    return Z, cache     "
   ]
  },
  {
   "cell_type": "code",
   "execution_count": 72,
   "metadata": {},
   "outputs": [
    {
     "name": "stdout",
     "output_type": "stream",
     "text": [
      "Z's mean = -1.424723284740757\n",
      "Z[3,2,1] = [-8.39966421  4.78707002]\n",
      "cache[2][0][1][9] = [ 1.0388246   2.18697965  0.44136444 -0.10015523]\n"
     ]
    }
   ],
   "source": [
    "np.random.seed(1)\n",
    "A_prev = np.random.randn(10, 5, 5, 4)\n",
    "W = np.random.randn(5, 5, 4, 2)\n",
    "b = np.random.randn(1, 1, 1, 2)\n",
    "Z, cache = conv_forward(A_prev, W, b)\n",
    "\n",
    "print(\"Z's mean =\", np.mean(Z))\n",
    "print(\"Z[3,2,1] =\", Z[3,2,1])\n",
    "print(\"cache[2][0][1][9] =\", cache[0][1][2][3])"
   ]
  },
  {
   "cell_type": "markdown",
   "metadata": {},
   "source": [
    "Your output should be:\n",
    "```\n",
    "Z's mean = -1.424723284740757\n",
    "Z[3,2,1] = [-8.39966421  4.78707002]\n",
    "cache[2][0][1][9] = [ 1.0388246   2.18697965  0.44136444 -0.10015523]\n",
    "```"
   ]
  },
  {
   "cell_type": "markdown",
   "metadata": {},
   "source": [
    "## 4 Max Pool Layer\n",
    "As you have read already, the max pool layer takes the maximum value of a window and stores it into a new volume of \"max values\". It basically shrinks the data to make it easier to calculate.\n",
    "### 4.1 Building the Layer\n",
    "You will use these 3 equations to build the max pool layer:"
   ]
  },
  {
   "cell_type": "markdown",
   "metadata": {},
   "source": [
    "$$ nH = (nH\\_prev - f) / stride + 1 $$\n",
    "$$ nW = (nW\\_prev - f) / stride + 1 $$\n",
    "$$ nC = nC\\_prev $$"
   ]
  },
  {
   "cell_type": "code",
   "execution_count": 75,
   "metadata": {},
   "outputs": [],
   "source": [
    "def max_pool_forwards(A_prev, stride = 2, f = 2):\n",
    "    #Get the dimensions of A_prev\n",
    "    (m, n_H_prev, n_W_prev, n_C_prev) = A_prev.shape\n",
    "    \n",
    "    #Compute the dimensons using the equations above\n",
    "    n_H = int(1 + (n_H_prev - f) / stride)\n",
    "    n_W = int(1 + (n_W_prev - f) / stride)\n",
    "    n_C = n_C_prev\n",
    "    \n",
    "    #Initialize the output matrix\n",
    "    A = np.zeros((m, n_H, n_W, n_C))\n",
    "    \n",
    "    for i in range(m):\n",
    "        for h in range(n_H):\n",
    "            for w in range(n_W):\n",
    "                for c in range(n_C):\n",
    "                    #find the corners\n",
    "                    vert_start = h * stride\n",
    "                    vert_end = vert_start + f\n",
    "                    horiz_start = w * stride\n",
    "                    horiz_end = horiz_start + f\n",
    "                    \n",
    "                    #create a slice for the ith training example\n",
    "                    a_prev_slice = A_prev[i, vert_start:vert_end, horiz_start:horiz_end, c]\n",
    "                    \n",
    "                    #\"pool\" the slice (hint: use np.max)\n",
    "                    A[i, h, w, c] = np.max(a_prev_slice)\n",
    "                    \n",
    "    cache = (A_prev)\n",
    "    return A, cache"
   ]
  },
  {
   "cell_type": "code",
   "execution_count": 80,
   "metadata": {},
   "outputs": [
    {
     "name": "stdout",
     "output_type": "stream",
     "text": [
      "A = [[[[1.33186404 0.82145535 1.48127781]]]\n",
      "\n",
      "\n",
      " [[[0.48668927 0.58680631 1.07080136]]]\n",
      "\n",
      "\n",
      " [[[0.36062884 0.35325398 1.51572304]]]]\n"
     ]
    }
   ],
   "source": [
    "np.random.seed(2019)\n",
    "A_prev = np.random.randn(3, 3, 3, 3) #(training examples, height, width, channels)\n",
    "\n",
    "A, cache = max_pool_forwards(A_prev, stride=2, f=2)\n",
    "print(\"A =\", A)"
   ]
  },
  {
   "cell_type": "markdown",
   "metadata": {},
   "source": [
    "Your output should be:\n",
    "```\n",
    "A = [[[[1.33186404 0.82145535 1.48127781]]]\n",
    "\n",
    "\n",
    " [[[0.48668927 0.58680631 1.07080136]]]\n",
    "\n",
    "\n",
    " [[[0.36062884 0.35325398 1.51572304]]]]\n",
    "```"
   ]
  },
  {
   "cell_type": "markdown",
   "metadata": {},
   "source": [
    "Max pooling backwards will be a lot more complicated, so we won't be going over that. However, as long as you get the concept of max pooling, you are on track."
   ]
  },
  {
   "cell_type": "markdown",
   "metadata": {},
   "source": [
    "## Congrats!\n",
    "You've completed this assignment. Next, we will see how to build a convnet using tf keras."
   ]
  }
 ],
 "metadata": {
  "kernelspec": {
   "display_name": "Python 3",
   "language": "python",
   "name": "python3"
  },
  "language_info": {
   "codemirror_mode": {
    "name": "ipython",
    "version": 3
   },
   "file_extension": ".py",
   "mimetype": "text/x-python",
   "name": "python",
   "nbconvert_exporter": "python",
   "pygments_lexer": "ipython3",
   "version": "3.7.3"
  }
 },
 "nbformat": 4,
 "nbformat_minor": 2
}
